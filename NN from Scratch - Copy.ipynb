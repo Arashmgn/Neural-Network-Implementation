{
 "cells": [
  {
   "cell_type": "code",
   "execution_count": 81,
   "id": "03e073d4",
   "metadata": {},
   "outputs": [],
   "source": [
    "import numpy as np\n",
    "import matplotlib.pyplot as plt\n",
    "from sklearn.datasets import load_iris\n",
    "from sklearn.model_selection import train_test_split\n",
    "from sklearn.preprocessing import OneHotEncoder\n",
    "from sklearn.preprocessing import StandardScaler"
   ]
  },
  {
   "cell_type": "code",
   "execution_count": 82,
   "id": "0722f01b",
   "metadata": {},
   "outputs": [],
   "source": [
    "class Layer:\n",
    "    def __init__(self,features,neurons,activationfunc):\n",
    "        self.features            = features\n",
    "        self.neurons             = neurons\n",
    "        self.activationfunc      = activationfunc\n",
    "        self.weight              = np.random.randn(self.neurons, self.features)\n",
    "        self.bias                = np.random.randn(neurons,1)\n",
    "        self.input               = np.zeros([self.features,1])\n",
    "        self.output              = np.zeros([self.features,1])\n",
    "\n",
    "    def activationReLu(self,inputs):\n",
    "        return np.maximum(inputs,0)\n",
    "        \n",
    "    def derivativeReLu(self,inputs):\n",
    "        return inputs > 0\n",
    "    \n",
    "    def activationSoftMax(self, inputs):\n",
    "        exp_values = np.exp(inputs - np.max(inputs))\n",
    "        return exp_values / np.sum(exp_values)\n",
    "        \n",
    "    def derivativeSofMax(self,input):\n",
    "        return self.activationSoftMax(input)*(1-self.activationSoftMax(input))\n",
    "    \n",
    "    def derivativeFunction(self,input):\n",
    "        if self.activationfunc   == \"relu\":\n",
    "            return self.derivativeReLu(input)\n",
    "        elif self.activationfunc == \"softmax\":\n",
    "            return self.derivativeSofMax(input)\n",
    "        else :\n",
    "            return 1\n",
    "    \n",
    "    def activationFunction(self,inputs):\n",
    "        if self.activationfunc   == \"relu\":\n",
    "            return self.activationReLu(inputs)\n",
    "        elif self.activationfunc == \"softmax\":\n",
    "            return self.activationSoftMax(inputs)\n",
    "        else:\n",
    "            return inputs\n",
    "\n",
    "    def feedforward(self,input):\n",
    "        self.input = input\n",
    "        self.output      = np.dot(self.weight, input)\n",
    "        self.output      += self.bias\n",
    "        activation  = self.activationFunction(self.output)  \n",
    "        return activation\n",
    "        \n",
    "    def backpropagation(self,dZ):\n",
    "        m    = dZ.shape[1]\n",
    "        dEdZ = dZ*self.derivativeFunction(self.output)\n",
    "        dW   = (1/m) * np.dot(dEdZ, self.input.transpose())\n",
    "        dB   = (1/m) * np.sum(dEdZ, axis=1, keepdims=True)\n",
    "        dE   = np.dot(self.weight.transpose(), dEdZ)\n",
    " \n",
    "        return dW, dB, dE\n",
    "\n",
    "    def learn(self, dW, dB, learning_rate):\n",
    "        self.weight -= dW*learning_rate\n",
    "        self.bias   -= dB*learning_rate\n",
    "\n",
    "class MLP:\n",
    "    def __init__(self, input_dim:int, layer_dims:list[int], activationfuncs:list[int], learning_rate=0.001):\n",
    "        self.learning_rate = learning_rate\n",
    "        self.network = []\n",
    "        self.network.append(Layer(input_dim, layer_dims[0], activationfuncs[0]))\n",
    "        for i in range(len(layer_dims)-1):\n",
    "            self.network.append(Layer(layer_dims[i], layer_dims[i+1], activationfuncs[i]))\n",
    "\n",
    "    def feedforward(self, input):\n",
    "        out = input\n",
    "        for i in range(len(self.network)):\n",
    "            out = self.network[i].feedforward(out)        \n",
    "        return out\n",
    "\n",
    "    def backpropagation(self, ground_truth, output):\n",
    "        error = output - ground_truth\n",
    "\n",
    "        for i in reversed(range(len(self.network))):\n",
    "            dW, dB, error = self.network[i].backpropagation(error)\n",
    "            self.network[i].learn(dW, dB, self.learning_rate)\n",
    "\n",
    "    def mse_loss(self,ground_truth, output):\n",
    "        squared_diff = (ground_truth - output) ** 2\n",
    "        overall_mse = squared_diff.mean()\n",
    "        return overall_mse"
   ]
  },
  {
   "cell_type": "code",
   "execution_count": 83,
   "id": "8d26e55e",
   "metadata": {},
   "outputs": [],
   "source": [
    "# Load the dataset\n",
    "data = load_iris()\n",
    "\n",
    "# Split the dataset into training and testing sets\n",
    "X_train, X_test, y_train, y_test = train_test_split(data.data, data.target, test_size=0.3, random_state=42)\n",
    "\n",
    "# Convert the training and testing sets into input and labels\n",
    "train_input = X_train\n",
    "test_input = X_test\n",
    "\n",
    "# Initialize the StandardScaler\n",
    "scaler = StandardScaler()\n",
    "\n",
    "# Fit the scaler on the training data and transform both the training and testing data\n",
    "train_input = scaler.fit_transform(train_input)\n",
    "test_input = scaler.transform(test_input)\n",
    "\n",
    "\n",
    "# One-hot encode the target labels\n",
    "encoder = OneHotEncoder()\n",
    "train_labels = encoder.fit_transform(y_train.reshape(-1, 1)).toarray()\n",
    "test_labels = encoder.transform(y_test.reshape(-1, 1)).toarray()\n"
   ]
  },
  {
   "cell_type": "code",
   "execution_count": 84,
   "metadata": {},
   "outputs": [],
   "source": [
    "mlp = MLP(4, layer_dims = [64, 64, 3], activationfuncs=[ \"softmax\", \"softmax\"], learning_rate=0.01)"
   ]
  },
  {
   "cell_type": "code",
   "execution_count": 85,
   "metadata": {},
   "outputs": [
    {
     "name": "stdout",
     "output_type": "stream",
     "text": [
      "mse loss :  0.2737785298333683\n",
      "mse loss :  0.25843454473583155\n",
      "mse loss :  0.24153953360680444\n",
      "mse loss :  0.22583371001174188\n",
      "mse loss :  0.21667582322389256\n",
      "mse loss :  0.2124172241836926\n",
      "mse loss :  0.20961988925437794\n",
      "mse loss :  0.20682482082715545\n",
      "mse loss :  0.203577974051321\n",
      "mse loss :  0.19966964966375753\n",
      "mse loss :  0.19492743436363616\n",
      "mse loss :  0.18918505334559926\n",
      "mse loss :  0.18231918604493358\n",
      "mse loss :  0.1743724696036565\n",
      "mse loss :  0.16572059857786983\n",
      "mse loss :  0.15705270809562877\n",
      "mse loss :  0.14903843035331785\n",
      "mse loss :  0.14201306252573426\n",
      "mse loss :  0.13597731431065535\n",
      "mse loss :  0.13076613793462977\n",
      "mse loss :  0.12618120610996927\n",
      "mse loss :  0.12204774149049234\n",
      "mse loss :  0.11822794060761921\n",
      "mse loss :  0.11461854159534138\n",
      "mse loss :  0.11114513126229106\n",
      "mse loss :  0.10775736061141529\n",
      "mse loss :  0.10442573138277379\n",
      "mse loss :  0.10113926436427385\n",
      "mse loss :  0.09790288397839032\n",
      "mse loss :  0.0947334730302451\n",
      "mse loss :  0.09165430141099834\n",
      "mse loss :  0.08868867239149635\n",
      "mse loss :  0.0858544441276151\n",
      "mse loss :  0.0831609001975109\n",
      "mse loss :  0.08060837682287507\n",
      "mse loss :  0.07818994363176965\n",
      "mse loss :  0.07589397586276671\n",
      "mse loss :  0.07370666205456491\n",
      "mse loss :  0.07161395820697507\n",
      "mse loss :  0.06960288658202551\n",
      "mse loss :  0.06766227881043985\n",
      "mse loss :  0.06578312002397982\n",
      "mse loss :  0.06395863481036763\n",
      "mse loss :  0.062184216116822684\n",
      "mse loss :  0.06045725776099273\n",
      "mse loss :  0.058776917982666654\n",
      "mse loss :  0.0571438187914903\n",
      "mse loss :  0.05555967698413838\n",
      "mse loss :  0.05402687009433905\n",
      "mse loss :  0.05254796186786214\n"
     ]
    }
   ],
   "source": [
    "epoch=500\n",
    "batch_size = 1\n",
    "for i in range(epoch):\n",
    "    outs = []\n",
    "    for j in range(0,len(train_input), batch_size):\n",
    "        x = train_input[j:j+batch_size]\n",
    "        y = train_labels[j:j+batch_size]\n",
    "        out = mlp.feedforward(x.T)\n",
    "        mlp.backpropagation(y.T, out)\n",
    "        outs.append(out)\n",
    "    if i%10 == 0:\n",
    "        print(\"mse loss : \", mlp.mse_loss(train_labels, np.array(outs).reshape([105,3])))"
   ]
  },
  {
   "cell_type": "code",
   "execution_count": 86,
   "id": "f199ffd1",
   "metadata": {},
   "outputs": [],
   "source": [
    "outs= []\n",
    "for input, label in zip(train_input, y_train):\n",
    "    out = mlp.feedforward(input.reshape(4,1))\n",
    "    outs.append(np.argmax(out))"
   ]
  },
  {
   "cell_type": "code",
   "execution_count": 87,
   "id": "a4f6190a",
   "metadata": {},
   "outputs": [
    {
     "data": {
      "text/plain": [
       "array([1, 2, 2, 1, 2, 1, 2, 1, 0, 2, 1, 0, 0, 0, 1, 2, 0, 0, 0, 1, 0, 1,\n",
       "       2, 0, 1, 2, 0, 2, 2, 1, 1, 2, 1, 0, 1, 2, 0, 0, 1, 2, 0, 2, 0, 0,\n",
       "       2, 1, 2, 2, 1, 2, 1, 0, 0, 1, 2, 0, 0, 0, 1, 2, 0, 2, 2, 0, 1, 2,\n",
       "       2, 2, 2, 0, 2, 1, 2, 1, 1, 1, 0, 1, 1, 0, 1, 2, 2, 0, 1, 2, 2, 0,\n",
       "       2, 0, 2, 2, 2, 1, 2, 1, 1, 2, 2, 0, 1, 1, 0, 1, 2], dtype=int64)"
      ]
     },
     "execution_count": 87,
     "metadata": {},
     "output_type": "execute_result"
    }
   ],
   "source": [
    "np.array(outs).transpose()"
   ]
  },
  {
   "cell_type": "code",
   "execution_count": 88,
   "id": "2404a383",
   "metadata": {},
   "outputs": [
    {
     "data": {
      "text/plain": [
       "array([ 0,  0,  0,  0,  0,  0,  0,  0,  0,  0,  0,  0,  0,  0,  0,  0,  0,\n",
       "        0,  0,  0,  0,  0,  0,  0,  0,  0,  0,  0,  0,  0,  0,  0,  0,  0,\n",
       "        0,  0,  0,  0,  0, -1,  0,  0,  0,  0, -1,  0,  0, -1,  1,  0,  0,\n",
       "        0,  0,  1,  0,  0,  0,  0,  0,  0,  0,  0,  0,  0,  0, -1,  0, -1,\n",
       "        0,  0,  0,  0,  0,  0,  0,  0,  0,  0,  0,  0,  0,  0,  0,  0,  0,\n",
       "        0,  0,  0,  0,  0, -1,  0,  0,  0,  0,  0,  0,  0,  0,  0,  0,  1,\n",
       "        0,  0,  0], dtype=int64)"
      ]
     },
     "execution_count": 88,
     "metadata": {},
     "output_type": "execute_result"
    }
   ],
   "source": [
    "y_train-outs"
   ]
  },
  {
   "cell_type": "code",
   "execution_count": 89,
   "metadata": {},
   "outputs": [
    {
     "data": {
      "text/plain": [
       "array([ 0,  0,  0,  0,  0,  0,  0,  0,  0,  0,  0,  0,  0,  0,  0, -1,  0,\n",
       "        0,  0,  0,  0,  0,  0,  0,  0,  0,  0,  0,  0,  0,  0,  0,  0,  0,\n",
       "        0,  0, -1,  0,  0,  0,  0,  0, -1,  0,  0], dtype=int64)"
      ]
     },
     "execution_count": 89,
     "metadata": {},
     "output_type": "execute_result"
    }
   ],
   "source": [
    "outs= []\n",
    "for input, label in zip(test_input, y_test):\n",
    "    out = mlp.feedforward(input.reshape(4,1))\n",
    "    # print(out)\n",
    "    outs.append(np.argmax(out))\n",
    "\n",
    "\n",
    "y_test-outs"
   ]
  },
  {
   "cell_type": "code",
   "execution_count": 101,
   "id": "59894727",
   "metadata": {},
   "outputs": [
    {
     "name": "stdout",
     "output_type": "stream",
     "text": [
      "(142, 3)\n",
      "mse loss :  0.24753575179230217\n",
      "mse loss :  0.21404413511529988\n",
      "mse loss :  0.1993759058576027\n",
      "mse loss :  0.1557965388489795\n",
      "mse loss :  0.09660991836559063\n",
      "mse loss :  0.054919626288035255\n",
      "mse loss :  0.03678352989475689\n",
      "mse loss :  0.028899243251749515\n",
      "mse loss :  0.024714640582122378\n",
      "mse loss :  0.02188802930072155\n"
     ]
    }
   ],
   "source": [
    "from sklearn.datasets import load_wine\n",
    "from sklearn.model_selection import train_test_split\n",
    "\n",
    "# Load the wine dataset\n",
    "data = load_wine()\n",
    "X = data.data   # Features (inputs)\n",
    "y = data.target # Target (outputs)\n",
    "\n",
    "# Split the dataset into a training set and a test set\n",
    "# test_size=0.2 means 20% of data is used for testing and 80% for training\n",
    "X_train, X_test, y_train, y_test = train_test_split(X, y, test_size=0.2, random_state=42)\n",
    "\n",
    "# Now, X_train and y_train are the training inputs and outputs,\n",
    "# and X_test and y_test are the testing inputs and outputs.\n",
    "train_input = X_train\n",
    "test_input = X_test\n",
    "\n",
    "# Initialize the StandardScaler\n",
    "scaler = StandardScaler()\n",
    "\n",
    "# Fit the scaler on the training data and transform both the training and testing data\n",
    "train_input = scaler.fit_transform(train_input)\n",
    "test_input = scaler.transform(test_input)\n",
    "\n",
    "# One-hot encode the target labels\n",
    "encoder = OneHotEncoder()\n",
    "train_labels = encoder.fit_transform(y_train.reshape(-1, 1)).toarray()\n",
    "test_labels = encoder.transform(y_test.reshape(-1, 1)).toarray()\n",
    "\n",
    "print(train_labels.shape)\n",
    "\n",
    "epoch=100\n",
    "\n",
    "mlp = MLP(13, layer_dims = [128, 64, 3], activationfuncs=[\"softmax\", \"softmax\"], learning_rate=0.05)\n",
    "\n",
    "for i in range(epoch):\n",
    "    outs = []\n",
    "    for x, y in zip(train_input, train_labels):\n",
    "        out = mlp.feedforward(x.reshape(13,1))\n",
    "        mlp.backpropagation(y.reshape(3,1), out)\n",
    "        outs.append(out)\n",
    "    if i%10 == 0:\n",
    "        print(\"mse loss : \", mlp.mse_loss(train_labels, np.array(outs).reshape([142,3])))\n",
    "\n",
    "outs= []\n",
    "for input, label in zip(train_input, y_train):\n",
    "    out = mlp.feedforward(input.reshape(13,1))\n",
    "    # print(out)\n",
    "    outs.append(np.argmax(out))"
   ]
  },
  {
   "cell_type": "code",
   "execution_count": 102,
   "id": "c444a8b1",
   "metadata": {},
   "outputs": [
    {
     "data": {
      "text/plain": [
       "array([2, 2, 1, 2, 0, 1, 1, 1, 2, 0, 1, 1, 2, 0, 1, 0, 0, 2, 2, 1, 1, 0,\n",
       "       1, 0, 2, 1, 1, 2, 0, 0, 0, 2, 0, 0, 1, 2, 1, 0, 2, 1, 0, 2, 1, 1,\n",
       "       0, 1, 0, 0, 1, 0, 0, 2, 1, 1, 1, 0, 1, 1, 1, 2, 2, 0, 1, 2, 2, 1,\n",
       "       1, 0, 1, 2, 2, 1, 2, 1, 1, 1, 0, 0, 2, 0, 2, 0, 0, 1, 1, 0, 0, 0,\n",
       "       1, 1, 1, 2, 1, 1, 1, 2, 2, 1, 0, 0, 1, 2, 2, 0, 1, 2, 2, 2, 2, 1,\n",
       "       0, 1, 1, 2, 0, 0, 1, 1, 0, 2, 1, 0, 2, 2, 0, 0, 2, 2, 2, 1, 1, 1,\n",
       "       1, 1, 1, 2, 0, 1, 1, 0, 1, 1], dtype=int64)"
      ]
     },
     "execution_count": 102,
     "metadata": {},
     "output_type": "execute_result"
    }
   ],
   "source": [
    "np.array(outs).transpose()"
   ]
  },
  {
   "cell_type": "code",
   "execution_count": 103,
   "id": "d38a7791",
   "metadata": {},
   "outputs": [
    {
     "data": {
      "text/plain": [
       "array([ 0,  0,  0,  0,  0,  0,  0,  0,  0,  0,  0,  0,  0,  0,  0,  0,  0,\n",
       "        0,  0,  0,  0,  0,  0,  0,  0,  0,  0,  0,  0,  0,  0,  0,  0,  0,\n",
       "        0,  0,  0,  0,  0,  0,  0,  0,  0,  0,  0,  0,  0,  0,  0,  0,  0,\n",
       "        0,  0,  0,  0,  0,  0,  0,  0,  0,  0,  0,  0,  0,  0,  0,  0,  0,\n",
       "        0,  0,  0,  0,  0,  0,  0,  0,  0,  0,  0,  0,  0,  0,  0,  0,  0,\n",
       "        0,  0,  0,  0, -1,  0,  0,  0,  0,  0,  0,  0,  0,  0,  0,  0,  0,\n",
       "        0,  0,  0,  0,  0,  0,  0,  0,  0,  0, -1,  0,  0,  0,  0, -1,  0,\n",
       "        0,  0,  0,  0,  0,  0,  0,  0,  0,  0,  0,  0,  0,  0,  0,  0,  0,\n",
       "        0,  0,  0,  0,  0,  0], dtype=int64)"
      ]
     },
     "execution_count": 103,
     "metadata": {},
     "output_type": "execute_result"
    }
   ],
   "source": [
    "y_train-outs"
   ]
  },
  {
   "cell_type": "code",
   "execution_count": 104,
   "id": "a2dfcc75",
   "metadata": {},
   "outputs": [
    {
     "data": {
      "text/plain": [
       "array([ 0,  0,  0,  0,  0,  0,  0,  0,  0,  0,  0,  0, -1,  0,  0,  0,  0,\n",
       "        0,  0,  0,  0,  0,  0,  0,  0,  0,  0,  0,  0,  0,  0,  0,  0,  0,\n",
       "        0,  0], dtype=int64)"
      ]
     },
     "execution_count": 104,
     "metadata": {},
     "output_type": "execute_result"
    }
   ],
   "source": [
    "outs= []\n",
    "for input, label in zip(test_input, y_test):\n",
    "    out = mlp.feedforward(input.reshape(13,1))\n",
    "    # print(out)\n",
    "    outs.append(np.argmax(out))\n",
    "\n",
    "\n",
    "y_test-outs"
   ]
  },
  {
   "cell_type": "code",
   "execution_count": 105,
   "id": "4640b5c8",
   "metadata": {},
   "outputs": [],
   "source": [
    "def batch_normalization(batch, gamma, beta, epsilon=1e-5):\n",
    "    # Calculate mean and variance\n",
    "    mean = np.mean(batch, axis=0)\n",
    "    variance = np.var(batch, axis=0)\n",
    "    \n",
    "    # Normalize\n",
    "    batch_normalized = (batch - mean) / np.sqrt(variance + epsilon)\n",
    "    \n",
    "    # Scale and shift\n",
    "    batch_scaled_and_shifted = gamma * batch_normalized + beta\n",
    "    \n",
    "    return batch_scaled_and_shifted"
   ]
  },
  {
   "cell_type": "code",
   "execution_count": null,
   "id": "74fc00f8",
   "metadata": {},
   "outputs": [],
   "source": []
  }
 ],
 "metadata": {
  "kernelspec": {
   "display_name": "Python 3.9.0 64-bit",
   "language": "python",
   "name": "python3"
  },
  "language_info": {
   "codemirror_mode": {
    "name": "ipython",
    "version": 3
   },
   "file_extension": ".py",
   "mimetype": "text/x-python",
   "name": "python",
   "nbconvert_exporter": "python",
   "pygments_lexer": "ipython3",
   "version": "3.11.5"
  },
  "vscode": {
   "interpreter": {
    "hash": "13cfaab314e57165490be6244dd780a39caf64916f8b5ba446816839af7ad0cb"
   }
  }
 },
 "nbformat": 4,
 "nbformat_minor": 5
}
